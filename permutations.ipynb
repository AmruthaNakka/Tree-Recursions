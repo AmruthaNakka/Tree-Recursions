{
 "cells": [
  {
   "cell_type": "code",
   "execution_count": null,
   "id": "17360870-c22f-40a9-ac0e-cdb0c336ed61",
   "metadata": {},
   "outputs": [],
   "source": [
    "'''permutations of char in tree recursion'''\n",
    "def permute(s, bucket=' '):\n",
    "    if not s:\n",
    "        print(bucket)\n",
    "        return\n",
    "    for i in range(len(s)):\n",
    "        ns=s[:i]+s[i+1:]\n",
    "        permute(ns,bucket+s[i])\n",
    "text=input(\"enter a name/word:\")\n",
    "print(\"possibilities of combination....\")\n",
    "permute(text)"
   ]
  }
 ],
 "metadata": {
  "kernelspec": {
   "display_name": "Python 3 (ipykernel)",
   "language": "python",
   "name": "python3"
  },
  "language_info": {
   "codemirror_mode": {
    "name": "ipython",
    "version": 3
   },
   "file_extension": ".py",
   "mimetype": "text/x-python",
   "name": "python",
   "nbconvert_exporter": "python",
   "pygments_lexer": "ipython3",
   "version": "3.12.7"
  }
 },
 "nbformat": 4,
 "nbformat_minor": 5
}
