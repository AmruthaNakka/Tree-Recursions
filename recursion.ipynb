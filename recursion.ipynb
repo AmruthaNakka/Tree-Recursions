{
 "cells": [
  {
   "cell_type": "code",
   "execution_count": 1,
   "id": "c9a33dd3-b494-4cc6-bb73-2ca449e9bb95",
   "metadata": {},
   "outputs": [
    {
     "name": "stdin",
     "output_type": "stream",
     "text": [
      "enter length of string: 3\n"
     ]
    },
    {
     "name": "stdout",
     "output_type": "stream",
     "text": [
      "Binary combinations......\n",
      "000\n",
      "001\n",
      "010\n",
      "011\n",
      "100\n",
      "101\n",
      "110\n",
      "111\n"
     ]
    }
   ],
   "source": [
    "def binary(n, b=''):\n",
    "    if n==0:\n",
    "        print(b)\n",
    "        return\n",
    "    binary(n-1,b+'0')\n",
    "    binary(n-1,b+'1')\n",
    "length=int(input(\"enter length of string:\"))\n",
    "print(\"Binary combinations......\")\n",
    "binary(length)"
   ]
  },
  {
   "cell_type": "code",
   "execution_count": 3,
   "id": "8205c12a-f048-4154-8961-06ade67e797e",
   "metadata": {},
   "outputs": [
    {
     "name": "stdin",
     "output_type": "stream",
     "text": [
      "enter the number of terms to print: 5\n"
     ]
    },
    {
     "name": "stdout",
     "output_type": "stream",
     "text": [
      "fibonacci series......\n",
      "0 1 1 2 3 "
     ]
    }
   ],
   "source": [
    "#fib on tree recursion 0 1 1 2 3 5 8\n",
    "def fib(n):\n",
    "    if n<=1:\n",
    "        return n\n",
    "    return fib(n-1)+fib(n-2)\n",
    "terms=int(input(\"enter the number of terms to print:\"))\n",
    "print((\"fibonacci series......\"))\n",
    "for i in range(terms):\n",
    "    print(fib(i), end=' ')"
   ]
  },
  {
   "cell_type": "code",
   "execution_count": 5,
   "id": "8b6985d8-e62a-4626-9195-cabadc5944c5",
   "metadata": {},
   "outputs": [
    {
     "name": "stdin",
     "output_type": "stream",
     "text": [
      "enter a name/word: abc\n"
     ]
    },
    {
     "name": "stdout",
     "output_type": "stream",
     "text": [
      "possibilities of combination....\n",
      " abc\n",
      " acb\n",
      " bac\n",
      " bca\n",
      " cab\n",
      " cba\n"
     ]
    }
   ],
   "source": [
    "\n",
    "'''permutations of char in tree recursion'''\n",
    "def permute(s, bucket=' '):\n",
    "    if not s:\n",
    "        print(bucket)\n",
    "        return\n",
    "    for i in range(len(s)):\n",
    "        ns=s[:i]+s[i+1:]\n",
    "        permute(ns,bucket+s[i])\n",
    "text=input(\"enter a name/word:\")\n",
    "print(\"possibilities of combination....\")\n",
    "permute(text)"
   ]
  },
  {
   "cell_type": "code",
   "execution_count": null,
   "id": "b3beab0e-a5da-419a-b2e3-45a72711b14e",
   "metadata": {},
   "outputs": [],
   "source": []
  }
 ],
 "metadata": {
  "kernelspec": {
   "display_name": "Python 3 (ipykernel)",
   "language": "python",
   "name": "python3"
  },
  "language_info": {
   "codemirror_mode": {
    "name": "ipython",
    "version": 3
   },
   "file_extension": ".py",
   "mimetype": "text/x-python",
   "name": "python",
   "nbconvert_exporter": "python",
   "pygments_lexer": "ipython3",
   "version": "3.12.7"
  }
 },
 "nbformat": 4,
 "nbformat_minor": 5
}
