{
 "cells": [
  {
   "cell_type": "code",
   "execution_count": null,
   "id": "87674e3f-130a-4d61-8745-eb69f60294a6",
   "metadata": {},
   "outputs": [],
   "source": [
    "def binary(n, b=''):\n",
    "    if n==0:\n",
    "        print(b)\n",
    "        return\n",
    "    binary(n-1,b+'0')\n",
    "    binary(n-1,b+'1')\n",
    "length=int(input(\"enter length of string:\"))\n",
    "print(\"Binary combinations......\")\n",
    "binary(length)"
   ]
  }
 ],
 "metadata": {
  "kernelspec": {
   "display_name": "Python 3 (ipykernel)",
   "language": "python",
   "name": "python3"
  },
  "language_info": {
   "codemirror_mode": {
    "name": "ipython",
    "version": 3
   },
   "file_extension": ".py",
   "mimetype": "text/x-python",
   "name": "python",
   "nbconvert_exporter": "python",
   "pygments_lexer": "ipython3",
   "version": "3.12.7"
  }
 },
 "nbformat": 4,
 "nbformat_minor": 5
}
