{
 "cells": [
  {
   "cell_type": "code",
   "execution_count": null,
   "id": "0b36a0ac-4ab7-47d5-8d81-124c4ee73ab4",
   "metadata": {},
   "outputs": [],
   "source": [
    "#fib on tree recursion 0 1 1 2 3 5 8\n",
    "def fib(n):\n",
    "    if n<=1:\n",
    "        return n\n",
    "    return fib(n-1)+fib(n-2)\n",
    "terms=int(input(\"enter the number of terms to print:\"))\n",
    "print((\"fibonacci series......\"))\n",
    "for i in range(terms):\n",
    "    print(fib(i), end=' ')"
   ]
  }
 ],
 "metadata": {
  "kernelspec": {
   "display_name": "Python 3 (ipykernel)",
   "language": "python",
   "name": "python3"
  },
  "language_info": {
   "codemirror_mode": {
    "name": "ipython",
    "version": 3
   },
   "file_extension": ".py",
   "mimetype": "text/x-python",
   "name": "python",
   "nbconvert_exporter": "python",
   "pygments_lexer": "ipython3",
   "version": "3.12.7"
  }
 },
 "nbformat": 4,
 "nbformat_minor": 5
}
